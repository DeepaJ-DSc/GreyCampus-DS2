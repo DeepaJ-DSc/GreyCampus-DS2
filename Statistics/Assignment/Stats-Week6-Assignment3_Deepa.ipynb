{
 "cells": [
  {
   "cell_type": "markdown",
   "metadata": {},
   "source": [
    "### 1. The actor data set contain age information when they won the Oscar award. However, from different movies, a recent study claims that there is an association between the best actress and best actor age. \n",
    "    a. Please write your null and alternative hypothesis\n",
    "    b. Please create a scatter plot\n",
    "    c. Please report your Pearson correlation coefficient, test statistics, and p-value\n",
    "    d. Write your conclusion based on the result."
   ]
  },
  {
   "cell_type": "code",
   "execution_count": 1,
   "metadata": {},
   "outputs": [],
   "source": [
    "import pandas as pd\n",
    "import numpy as np\n",
    "import matplotlib.pyplot as plt"
   ]
  },
  {
   "cell_type": "code",
   "execution_count": 2,
   "metadata": {},
   "outputs": [
    {
     "data": {
      "text/html": [
       "<div>\n",
       "<style scoped>\n",
       "    .dataframe tbody tr th:only-of-type {\n",
       "        vertical-align: middle;\n",
       "    }\n",
       "\n",
       "    .dataframe tbody tr th {\n",
       "        vertical-align: top;\n",
       "    }\n",
       "\n",
       "    .dataframe thead th {\n",
       "        text-align: right;\n",
       "    }\n",
       "</style>\n",
       "<table border=\"1\" class=\"dataframe\">\n",
       "  <thead>\n",
       "    <tr style=\"text-align: right;\">\n",
       "      <th></th>\n",
       "      <th>Best Actress</th>\n",
       "      <th>Best Actor</th>\n",
       "    </tr>\n",
       "  </thead>\n",
       "  <tbody>\n",
       "    <tr>\n",
       "      <th>0</th>\n",
       "      <td>27</td>\n",
       "      <td>43</td>\n",
       "    </tr>\n",
       "    <tr>\n",
       "      <th>1</th>\n",
       "      <td>29</td>\n",
       "      <td>35</td>\n",
       "    </tr>\n",
       "    <tr>\n",
       "      <th>2</th>\n",
       "      <td>30</td>\n",
       "      <td>39</td>\n",
       "    </tr>\n",
       "    <tr>\n",
       "      <th>3</th>\n",
       "      <td>63</td>\n",
       "      <td>44</td>\n",
       "    </tr>\n",
       "    <tr>\n",
       "      <th>4</th>\n",
       "      <td>30</td>\n",
       "      <td>52</td>\n",
       "    </tr>\n",
       "    <tr>\n",
       "      <th>5</th>\n",
       "      <td>34</td>\n",
       "      <td>47</td>\n",
       "    </tr>\n",
       "    <tr>\n",
       "      <th>6</th>\n",
       "      <td>46</td>\n",
       "      <td>63</td>\n",
       "    </tr>\n",
       "    <tr>\n",
       "      <th>7</th>\n",
       "      <td>29</td>\n",
       "      <td>48</td>\n",
       "    </tr>\n",
       "    <tr>\n",
       "      <th>8</th>\n",
       "      <td>64</td>\n",
       "      <td>37</td>\n",
       "    </tr>\n",
       "    <tr>\n",
       "      <th>9</th>\n",
       "      <td>21</td>\n",
       "      <td>55</td>\n",
       "    </tr>\n",
       "    <tr>\n",
       "      <th>10</th>\n",
       "      <td>45</td>\n",
       "      <td>44</td>\n",
       "    </tr>\n",
       "    <tr>\n",
       "      <th>11</th>\n",
       "      <td>56</td>\n",
       "      <td>33</td>\n",
       "    </tr>\n",
       "  </tbody>\n",
       "</table>\n",
       "</div>"
      ],
      "text/plain": [
       "    Best Actress  Best Actor\n",
       "0             27          43\n",
       "1             29          35\n",
       "2             30          39\n",
       "3             63          44\n",
       "4             30          52\n",
       "5             34          47\n",
       "6             46          63\n",
       "7             29          48\n",
       "8             64          37\n",
       "9             21          55\n",
       "10            45          44\n",
       "11            56          33"
      ]
     },
     "execution_count": 2,
     "metadata": {},
     "output_type": "execute_result"
    }
   ],
   "source": [
    "actor_df = pd.read_excel('F:/GreyCampus-Datascience/DS5/Statistics/Stats-W3-Assignment+3+Datasets/Actor.xlsx')\n",
    "actor_df"
   ]
  },
  {
   "cell_type": "markdown",
   "metadata": {},
   "source": [
    "#### a. Please write your null and alternative hypothesis\n",
    "\n",
    "NULL HYPOTHESIS: There is no association between the age of best actress and best actor.\n",
    "\n",
    "ALTERNATIVE HYPOTHESIS: There is an association between the age of best actress and best actor."
   ]
  },
  {
   "cell_type": "markdown",
   "metadata": {},
   "source": [
    "#### b. Please create a scatter plot"
   ]
  },
  {
   "cell_type": "code",
   "execution_count": 4,
   "metadata": {},
   "outputs": [
    {
     "data": {
      "image/png": "[encoded data removed]",
      "text/plain": [
       "<Figure size 432x288 with 1 Axes>"
      ]
     },
     "metadata": {
      "needs_background": "light"
     },
     "output_type": "display_data"
    }
   ],
   "source": [
    "plt.scatter(actor_df['Best Actress'], actor_df['Best Actor'])\n",
    "\n",
    "plt.xlabel(\"Age of Best Actress\")\n",
    "plt.ylabel(\"Age of Best Actor\")\n",
    "\n",
    "plt.show()"
   ]
  },
  {
   "cell_type": "markdown",
   "metadata": {},
   "source": [
    "#### c. Please report your Pearson correlation coefficient, test statistics, and p-value"
   ]
  },
  {
   "cell_type": "code",
   "execution_count": 8,
   "metadata": {},
   "outputs": [
    {
     "name": "stdout",
     "output_type": "stream",
     "text": [
      "Pearson correlation coefficient (R value):  -0.2899425971534635\n"
     ]
    }
   ],
   "source": [
    "from scipy import stats\n",
    "\n",
    "rval, pval = stats.pearsonr(actor_df['Best Actress'], actor_df['Best Actor'])\n",
    "print(\"Pearson correlation coefficient (R value): \", float(rval))"
   ]
  },
  {
   "cell_type": "markdown",
   "metadata": {},
   "source": [
    "The Pearson correlation coefficient shows a low negative correlation between the age of Best Actress and Best Actor."
   ]
  },
  {
   "cell_type": "markdown",
   "metadata": {},
   "source": [
    "##### Use Independent T-test to compare the means of the two samples (Best Actress and Best Actor) and find the P value and test statistic"
   ]
  },
  {
   "cell_type": "code",
   "execution_count": 9,
   "metadata": {},
   "outputs": [
    {
     "name": "stdout",
     "output_type": "stream",
     "text": [
      "Test Statistic:  -1.1062190120428075\n",
      "P Value:  0.2805820113038099\n"
     ]
    }
   ],
   "source": [
    "ttestind,pvalind= stats.ttest_ind(actor_df['Best Actress'], actor_df['Best Actor'])\n",
    "\n",
    "print(\"Test Statistic: \", ttestind)  \n",
    "print(\"P Value: \", pvalind)"
   ]
  },
  {
   "cell_type": "markdown",
   "metadata": {},
   "source": [
    "#### d. Write your conclusion based on the result.\n",
    "\n",
    "The Pearson correlation coefficient shows a low negative correlation between the age of Best Actress and Best Actor.\n",
    "\n",
    "The P value is greater than 0.05. Hence, we accept the NULL HYPOTHESIS and conclude that \"There is no association between the age of best actress and best actor.\"'"
   ]
  },
  {
   "cell_type": "markdown",
   "metadata": {},
   "source": [
    "### 2. The Justice salary dataset contains Court income and Justice salary information. There is a claim that there is no association between justice salary and court income. \n",
    "    a. Please write your null and alternative hypothesis\n",
    "    b. Please create a scatter plot\n",
    "    c. Please report your Pearson correlation coefficient, test statistics, and p-value.\n",
    "    d. Write your conclusion based on the result."
   ]
  },
  {
   "cell_type": "code",
   "execution_count": 10,
   "metadata": {},
   "outputs": [
    {
     "data": {
      "text/html": [
       "<div>\n",
       "<style scoped>\n",
       "    .dataframe tbody tr th:only-of-type {\n",
       "        vertical-align: middle;\n",
       "    }\n",
       "\n",
       "    .dataframe tbody tr th {\n",
       "        vertical-align: top;\n",
       "    }\n",
       "\n",
       "    .dataframe thead th {\n",
       "        text-align: right;\n",
       "    }\n",
       "</style>\n",
       "<table border=\"1\" class=\"dataframe\">\n",
       "  <thead>\n",
       "    <tr style=\"text-align: right;\">\n",
       "      <th></th>\n",
       "      <th>Court_Income</th>\n",
       "      <th>Justice_Salary</th>\n",
       "    </tr>\n",
       "  </thead>\n",
       "  <tbody>\n",
       "    <tr>\n",
       "      <th>0</th>\n",
       "      <td>64</td>\n",
       "      <td>31</td>\n",
       "    </tr>\n",
       "    <tr>\n",
       "      <th>1</th>\n",
       "      <td>403</td>\n",
       "      <td>45</td>\n",
       "    </tr>\n",
       "    <tr>\n",
       "      <th>2</th>\n",
       "      <td>1567</td>\n",
       "      <td>94</td>\n",
       "    </tr>\n",
       "    <tr>\n",
       "      <th>3</th>\n",
       "      <td>1131</td>\n",
       "      <td>58</td>\n",
       "    </tr>\n",
       "    <tr>\n",
       "      <th>4</th>\n",
       "      <td>274</td>\n",
       "      <td>48</td>\n",
       "    </tr>\n",
       "    <tr>\n",
       "      <th>5</th>\n",
       "      <td>250</td>\n",
       "      <td>60</td>\n",
       "    </tr>\n",
       "    <tr>\n",
       "      <th>6</th>\n",
       "      <td>112</td>\n",
       "      <td>24</td>\n",
       "    </tr>\n",
       "    <tr>\n",
       "      <th>7</th>\n",
       "      <td>155</td>\n",
       "      <td>25</td>\n",
       "    </tr>\n",
       "    <tr>\n",
       "      <th>8</th>\n",
       "      <td>30</td>\n",
       "      <td>18</td>\n",
       "    </tr>\n",
       "  </tbody>\n",
       "</table>\n",
       "</div>"
      ],
      "text/plain": [
       "   Court_Income  Justice_Salary\n",
       "0            64              31\n",
       "1           403              45\n",
       "2          1567              94\n",
       "3          1131              58\n",
       "4           274              48\n",
       "5           250              60\n",
       "6           112              24\n",
       "7           155              25\n",
       "8            30              18"
      ]
     },
     "execution_count": 10,
     "metadata": {},
     "output_type": "execute_result"
    }
   ],
   "source": [
    "justsal_df = pd.read_excel('F:/GreyCampus-Datascience/DS5/Statistics/Stats-W3-Assignment+3+Datasets/Justice_salary.xlsx')\n",
    "justsal_df"
   ]
  },
  {
   "cell_type": "markdown",
   "metadata": {},
   "source": [
    "#### a. Please write your null and alternative hypothesis\n",
    "\n",
    "NULL HYPOTHESIS: There is no association between the Court Income and the Justice Salary.\n",
    "\n",
    "ALTERNATIVE HYPOTHESIS: There is an association between the Court Income and the Justice Salary."
   ]
  },
  {
   "cell_type": "markdown",
   "metadata": {},
   "source": [
    "#### b. Please create a scatter plot"
   ]
  },
  {
   "cell_type": "code",
   "execution_count": 11,
   "metadata": {},
   "outputs": [
    {
     "data": {
      "image/png": "[encoded data removed]",
      "text/plain": [
       "<Figure size 432x288 with 1 Axes>"
      ]
     },
     "metadata": {
      "needs_background": "light"
     },
     "output_type": "display_data"
    }
   ],
   "source": [
    "plt.scatter(justsal_df['Court_Income'], justsal_df['Justice_Salary'])\n",
    "\n",
    "plt.xlabel(\"Court Income\")\n",
    "plt.ylabel(\"Justice Salary\")\n",
    "\n",
    "plt.show()"
   ]
  },
  {
   "cell_type": "markdown",
   "metadata": {},
   "source": [
    "#### c. Please report your Pearson correlation coefficient, test statistics, and p-value"
   ]
  },
  {
   "cell_type": "code",
   "execution_count": 12,
   "metadata": {},
   "outputs": [
    {
     "name": "stdout",
     "output_type": "stream",
     "text": [
      "Pearson correlation coefficient (R value):  0.8737459397571339\n"
     ]
    }
   ],
   "source": [
    "from scipy import stats\n",
    "\n",
    "rval, pval = stats.pearsonr(justsal_df['Court_Income'], justsal_df['Justice_Salary'])\n",
    "print(\"Pearson correlation coefficient (R value): \", float(rval))"
   ]
  },
  {
   "cell_type": "markdown",
   "metadata": {},
   "source": [
    "The Pearson correlation coefficient shows a high positive correlation between the Court Income and Justice Salary."
   ]
  },
  {
   "cell_type": "markdown",
   "metadata": {},
   "source": [
    "##### Use Independent T-test to compare the means of the two samples (Court Income and Justice Salary) and find the P value and test statistic"
   ]
  },
  {
   "cell_type": "code",
   "execution_count": 13,
   "metadata": {},
   "outputs": [
    {
     "name": "stdout",
     "output_type": "stream",
     "text": [
      "Test Statistic:  2.2200163748113764\n",
      "P Value:  0.04121280757721795\n"
     ]
    }
   ],
   "source": [
    "ttestind,pvalind= stats.ttest_ind(justsal_df['Court_Income'], justsal_df['Justice_Salary'])\n",
    "\n",
    "print(\"Test Statistic: \", ttestind)  \n",
    "print(\"P Value: \", pvalind)"
   ]
  },
  {
   "cell_type": "markdown",
   "metadata": {},
   "source": [
    "#### d. Write your conclusion based on the result.\n",
    "\n",
    "The Pearson correlation coefficient shows a high positive correlation between the Court Income and Justice Salary.\n",
    "\n",
    "The P value is lesser than 0.05. Hence, we reject the NULL HYPOTHESIS and accept the ALTERNATE HYPOTHESIS that \"There is an association between the Court Income and Justice Salary.\""
   ]
  },
  {
   "cell_type": "markdown",
   "metadata": {},
   "source": [
    "### 3. Dummy dataset contains dummy data. \n",
    "\n",
    "    a. Please create a scatter plot\n",
    "    b. Examine the correlation between x and y and report the Pearson correlation coefficient, test statistics, and p-value.\n",
    "    c. Remove one row (8, 10) from the dataset and examine the correlation between x and y, and report Pearson correlation coefficient, test statistics, and p-value.\n",
    "    d. Based on b and c, write your conclusion, and based on conclusion write your major assumption about the Pearson correlation coefficient"
   ]
  },
  {
   "cell_type": "code",
   "execution_count": 14,
   "metadata": {},
   "outputs": [
    {
     "data": {
      "text/html": [
       "<div>\n",
       "<style scoped>\n",
       "    .dataframe tbody tr th:only-of-type {\n",
       "        vertical-align: middle;\n",
       "    }\n",
       "\n",
       "    .dataframe tbody tr th {\n",
       "        vertical-align: top;\n",
       "    }\n",
       "\n",
       "    .dataframe thead th {\n",
       "        text-align: right;\n",
       "    }\n",
       "</style>\n",
       "<table border=\"1\" class=\"dataframe\">\n",
       "  <thead>\n",
       "    <tr style=\"text-align: right;\">\n",
       "      <th></th>\n",
       "      <th>x</th>\n",
       "      <th>y</th>\n",
       "    </tr>\n",
       "  </thead>\n",
       "  <tbody>\n",
       "    <tr>\n",
       "      <th>0</th>\n",
       "      <td>1</td>\n",
       "      <td>3</td>\n",
       "    </tr>\n",
       "    <tr>\n",
       "      <th>1</th>\n",
       "      <td>1</td>\n",
       "      <td>4</td>\n",
       "    </tr>\n",
       "    <tr>\n",
       "      <th>2</th>\n",
       "      <td>1</td>\n",
       "      <td>5</td>\n",
       "    </tr>\n",
       "    <tr>\n",
       "      <th>3</th>\n",
       "      <td>2</td>\n",
       "      <td>3</td>\n",
       "    </tr>\n",
       "    <tr>\n",
       "      <th>4</th>\n",
       "      <td>2</td>\n",
       "      <td>4</td>\n",
       "    </tr>\n",
       "    <tr>\n",
       "      <th>5</th>\n",
       "      <td>2</td>\n",
       "      <td>5</td>\n",
       "    </tr>\n",
       "    <tr>\n",
       "      <th>6</th>\n",
       "      <td>3</td>\n",
       "      <td>3</td>\n",
       "    </tr>\n",
       "    <tr>\n",
       "      <th>7</th>\n",
       "      <td>3</td>\n",
       "      <td>4</td>\n",
       "    </tr>\n",
       "    <tr>\n",
       "      <th>8</th>\n",
       "      <td>3</td>\n",
       "      <td>5</td>\n",
       "    </tr>\n",
       "    <tr>\n",
       "      <th>9</th>\n",
       "      <td>8</td>\n",
       "      <td>10</td>\n",
       "    </tr>\n",
       "  </tbody>\n",
       "</table>\n",
       "</div>"
      ],
      "text/plain": [
       "   x   y\n",
       "0  1   3\n",
       "1  1   4\n",
       "2  1   5\n",
       "3  2   3\n",
       "4  2   4\n",
       "5  2   5\n",
       "6  3   3\n",
       "7  3   4\n",
       "8  3   5\n",
       "9  8  10"
      ]
     },
     "execution_count": 14,
     "metadata": {},
     "output_type": "execute_result"
    }
   ],
   "source": [
    "dummy_df = pd.read_excel('F:/GreyCampus-Datascience/DS5/Statistics/Stats-W3-Assignment+3+Datasets/Dummy dataset.xlsx')\n",
    "dummy_df"
   ]
  },
  {
   "cell_type": "markdown",
   "metadata": {},
   "source": [
    "#### a. Please create a scatter plot"
   ]
  },
  {
   "cell_type": "code",
   "execution_count": 15,
   "metadata": {},
   "outputs": [
    {
     "data": {
      "image/png": "[encoded data removed]",
      "text/plain": [
       "<Figure size 432x288 with 1 Axes>"
      ]
     },
     "metadata": {
      "needs_background": "light"
     },
     "output_type": "display_data"
    }
   ],
   "source": [
    "plt.scatter(dummy_df['x'], dummy_df['y'])\n",
    "\n",
    "plt.xlabel(\"x\")\n",
    "plt.ylabel(\"y\")\n",
    "\n",
    "plt.show()"
   ]
  },
  {
   "cell_type": "markdown",
   "metadata": {},
   "source": [
    "#### b. Examine the correlation between x and y and report the Pearson correlation coefficient, test statistics, and p-value."
   ]
  },
  {
   "cell_type": "code",
   "execution_count": 16,
   "metadata": {},
   "outputs": [
    {
     "name": "stdout",
     "output_type": "stream",
     "text": [
      "Pearson correlation coefficient (R value):  0.84375\n"
     ]
    }
   ],
   "source": [
    "from scipy import stats\n",
    "\n",
    "rval, pval = stats.pearsonr(dummy_df['x'], dummy_df['y'])\n",
    "print(\"Pearson correlation coefficient (R value): \", float(rval))"
   ]
  },
  {
   "cell_type": "markdown",
   "metadata": {},
   "source": [
    "##### Use Independent T-test to compare the means of the two samples (x and y) and find the P value and test statistic"
   ]
  },
  {
   "cell_type": "code",
   "execution_count": 22,
   "metadata": {},
   "outputs": [
    {
     "name": "stdout",
     "output_type": "stream",
     "text": [
      "Test Statistic:  -2.165063509461096\n",
      "P Value:  0.044063747859043156\n"
     ]
    }
   ],
   "source": [
    "ttestind,pvalind= stats.ttest_ind(dummy_df['x'], dummy_df['y'])\n",
    "\n",
    "print(\"Test Statistic: \", ttestind)  \n",
    "print(\"P Value: \", pvalind)"
   ]
  },
  {
   "cell_type": "markdown",
   "metadata": {},
   "source": [
    "#### c. Remove one row (8, 10) from the dataset and examine the correlation between x and y, and report Pearson correlation coefficient, test statistics, and p-value."
   ]
  },
  {
   "cell_type": "code",
   "execution_count": 20,
   "metadata": {},
   "outputs": [
    {
     "data": {
      "text/html": [
       "<div>\n",
       "<style scoped>\n",
       "    .dataframe tbody tr th:only-of-type {\n",
       "        vertical-align: middle;\n",
       "    }\n",
       "\n",
       "    .dataframe tbody tr th {\n",
       "        vertical-align: top;\n",
       "    }\n",
       "\n",
       "    .dataframe thead th {\n",
       "        text-align: right;\n",
       "    }\n",
       "</style>\n",
       "<table border=\"1\" class=\"dataframe\">\n",
       "  <thead>\n",
       "    <tr style=\"text-align: right;\">\n",
       "      <th></th>\n",
       "      <th>x</th>\n",
       "      <th>y</th>\n",
       "    </tr>\n",
       "  </thead>\n",
       "  <tbody>\n",
       "    <tr>\n",
       "      <th>0</th>\n",
       "      <td>1</td>\n",
       "      <td>3</td>\n",
       "    </tr>\n",
       "    <tr>\n",
       "      <th>1</th>\n",
       "      <td>1</td>\n",
       "      <td>4</td>\n",
       "    </tr>\n",
       "    <tr>\n",
       "      <th>2</th>\n",
       "      <td>1</td>\n",
       "      <td>5</td>\n",
       "    </tr>\n",
       "    <tr>\n",
       "      <th>3</th>\n",
       "      <td>2</td>\n",
       "      <td>3</td>\n",
       "    </tr>\n",
       "    <tr>\n",
       "      <th>4</th>\n",
       "      <td>2</td>\n",
       "      <td>4</td>\n",
       "    </tr>\n",
       "    <tr>\n",
       "      <th>5</th>\n",
       "      <td>2</td>\n",
       "      <td>5</td>\n",
       "    </tr>\n",
       "    <tr>\n",
       "      <th>6</th>\n",
       "      <td>3</td>\n",
       "      <td>3</td>\n",
       "    </tr>\n",
       "    <tr>\n",
       "      <th>7</th>\n",
       "      <td>3</td>\n",
       "      <td>4</td>\n",
       "    </tr>\n",
       "    <tr>\n",
       "      <th>8</th>\n",
       "      <td>3</td>\n",
       "      <td>5</td>\n",
       "    </tr>\n",
       "  </tbody>\n",
       "</table>\n",
       "</div>"
      ],
      "text/plain": [
       "   x  y\n",
       "0  1  3\n",
       "1  1  4\n",
       "2  1  5\n",
       "3  2  3\n",
       "4  2  4\n",
       "5  2  5\n",
       "6  3  3\n",
       "7  3  4\n",
       "8  3  5"
      ]
     },
     "execution_count": 20,
     "metadata": {},
     "output_type": "execute_result"
    }
   ],
   "source": [
    "dummy1= dummy_df.drop([9])\n",
    "dummy1"
   ]
  },
  {
   "cell_type": "code",
   "execution_count": 21,
   "metadata": {},
   "outputs": [
    {
     "name": "stdout",
     "output_type": "stream",
     "text": [
      "Pearson correlation coefficient (R value):  0.0\n"
     ]
    }
   ],
   "source": [
    "from scipy import stats\n",
    "\n",
    "rval, pval = stats.pearsonr(dummy1['x'], dummy1['y'])\n",
    "print(\"Pearson correlation coefficient (R value): \", float(rval))"
   ]
  },
  {
   "cell_type": "markdown",
   "metadata": {},
   "source": [
    "#### Use Independent T-test to compare the means of the two samples (x and y) and find the P value and test statistic"
   ]
  },
  {
   "cell_type": "code",
   "execution_count": 23,
   "metadata": {},
   "outputs": [
    {
     "name": "stdout",
     "output_type": "stream",
     "text": [
      "Test Statistic:  -4.898979485566356\n",
      "P Value:  0.0001605341804595479\n"
     ]
    }
   ],
   "source": [
    "ttestind,pvalind= stats.ttest_ind(dummy1['x'], dummy1['y'])\n",
    "\n",
    "print(\"Test Statistic: \", ttestind)  \n",
    "print(\"P Value: \", pvalind)"
   ]
  },
  {
   "cell_type": "markdown",
   "metadata": {},
   "source": [
    "#### d. Based on b and c, write your conclusion, and based on conclusion write your major assumption about the Pearson correlation coefficient\n",
    "\n",
    "As can be seen from the previous steps, initially the Pearson correlation coefficient was 0.84, indicating a high positive correlation.\n",
    "\n",
    "However, once we removed the row which contained the outlier values, the Pearson correlation coefficient became 0 indicating that there is no correlation between X and Y.\n",
    "\n",
    "This study proves the Assumption about absence of outliers for Pearson correlation coefficient. Having an outlier can skew the results of the correlation by pulling the line of best fit formed by the correlation too far in one direction or another. This is very evident from the above use cases."
   ]
  },
  {
   "cell_type": "code",
   "execution_count": null,
   "metadata": {},
   "outputs": [],
   "source": []
  }
 ],
 "metadata": {
  "kernelspec": {
   "display_name": "Python 3",
   "language": "python",
   "name": "python3"
  },
  "language_info": {
   "codemirror_mode": {
    "name": "ipython",
    "version": 3
   },
   "file_extension": ".py",
   "mimetype": "text/x-python",
   "name": "python",
   "nbconvert_exporter": "python",
   "pygments_lexer": "ipython3",
   "version": "3.8.5"
  }
 },
 "nbformat": 4,
 "nbformat_minor": 4
}
