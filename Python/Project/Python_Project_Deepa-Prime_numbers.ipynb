{
 "cells": [
  {
   "cell_type": "code",
   "execution_count": 10,
   "metadata": {},
   "outputs": [
    {
     "name": "stdout",
     "output_type": "stream",
     "text": [
      "Enter a number: 0\n",
      "0 is not a prime number\n"
     ]
    }
   ],
   "source": [
    "# Program to check if a number is prime or not\n",
    "\n",
    "# A Prime number is one that has no other factors other that 1 and the number itself.\n",
    "\n",
    "# To check if the number is prime, we are checking if the number is exactly divisible by any number from 2 to (sqrt(number))\n",
    "\n",
    "\n",
    "import math as math\n",
    "\n",
    "# To take input from the user. If no input, take a default value.\n",
    "\n",
    "num = int(input(\"Enter a number: \") or \"217\")\n",
    "\n",
    "# All Prime numbers are greater than 1\n",
    "\n",
    "if num > 1:\n",
    "    \n",
    "   # Check for factors\n",
    "   for i in range(2,(math.floor(math.sqrt(num))+1)):\n",
    "        \n",
    "        # If i is a factor, print that the number is a prime number and break out of the for loop\n",
    "        \n",
    "       if (num % i) == 0:\n",
    "           print(num,\"is not a prime number\")\n",
    "           print(i,\"times\",num//i,\"is\",num)\n",
    "           break\n",
    "            \n",
    "    # If there are no factors in the range of 2 to sqrt(number), print that the number is a prime number\n",
    "   else:\n",
    "       print(num,\"is a prime number\")\n",
    "       \n",
    "# If input number is less than or equal to 1, print that it is not a prime number\n",
    "\n",
    "else:\n",
    "   print(num,\"is not a prime number\")"
   ]
  }
 ],
 "metadata": {
  "kernelspec": {
   "display_name": "Python 3",
   "language": "python",
   "name": "python3"
  },
  "language_info": {
   "codemirror_mode": {
    "name": "ipython",
    "version": 3
   },
   "file_extension": ".py",
   "mimetype": "text/x-python",
   "name": "python",
   "nbconvert_exporter": "python",
   "pygments_lexer": "ipython3",
   "version": "3.8.5"
  }
 },
 "nbformat": 4,
 "nbformat_minor": 4
}
